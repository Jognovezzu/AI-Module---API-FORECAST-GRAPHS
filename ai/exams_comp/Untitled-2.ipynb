{
 "cells": [
  {
   "cell_type": "code",
   "execution_count": 78,
   "metadata": {},
   "outputs": [],
   "source": [
    "import sqlite3"
   ]
  },
  {
   "cell_type": "code",
   "execution_count": 114,
   "metadata": {},
   "outputs": [
    {
     "ename": "OperationalError",
     "evalue": "unable to open database file",
     "output_type": "error",
     "traceback": [
      "\u001b[1;31m---------------------------------------------------------------------------\u001b[0m",
      "\u001b[1;31mOperationalError\u001b[0m                          Traceback (most recent call last)",
      "\u001b[1;32mc:\\Users\\GAIT-01\\Desktop\\ai-api-JUL\\ai-api\\ai\\exams_comp\\Untitled-2.ipynb Célula: 2\u001b[0m in \u001b[0;36m<cell line: 1>\u001b[1;34m()\u001b[0m\n\u001b[1;32m----> <a href='vscode-notebook-cell:/c%3A/Users/GAIT-01/Desktop/ai-api-JUL/ai-api/ai/exams_comp/Untitled-2.ipynb#ch0000008?line=0'>1</a>\u001b[0m con \u001b[39m=\u001b[39m sqlite3\u001b[39m.\u001b[39;49mconnect(\u001b[39m\"\u001b[39;49m\u001b[39m./model/db/exams.db\u001b[39;49m\u001b[39m\"\u001b[39;49m)\n\u001b[0;32m      <a href='vscode-notebook-cell:/c%3A/Users/GAIT-01/Desktop/ai-api-JUL/ai-api/ai/exams_comp/Untitled-2.ipynb#ch0000008?line=1'>2</a>\u001b[0m cur \u001b[39m=\u001b[39m con\u001b[39m.\u001b[39mcursor()\n",
      "\u001b[1;31mOperationalError\u001b[0m: unable to open database file"
     ]
    }
   ],
   "source": [
    "con = sqlite3.connect(\"./model/db/exams.db\")\n",
    "cur = con.cursor()"
   ]
  },
  {
   "cell_type": "code",
   "execution_count": 80,
   "metadata": {},
   "outputs": [
    {
     "data": {
      "text/plain": [
       "<sqlite3.Cursor at 0x2128589d6c0>"
      ]
     },
     "execution_count": 80,
     "metadata": {},
     "output_type": "execute_result"
    }
   ],
   "source": [
    "cur.execute(\"CREATE TABLE IF NOT EXISTS relearnedData (examId TEXT, gaitType TEXT NOT NULL, graphs TEXT NOT NULL);\")"
   ]
  },
  {
   "cell_type": "code",
   "execution_count": 81,
   "metadata": {},
   "outputs": [],
   "source": [
    "import json\n",
    "data = {\"gaitType\": \"SUPINADO\", \"graphs\": {\"linechart\": [{\"s0\": 0.0, \"s1\": 0.0, \"s2\": 0.0, \"s3\": 0.0, \"s4\": 0.0, \"s5\": 0.0, \"s6\": 0.0, \"s7\": 0.0, \"s8\": 0.0}, {\"s0\": 0.0, \"s1\": 0.0, \"s2\": 0.0, \"s3\": 0.0, \"s4\": 0.0, \"s5\": 0.0, \"s6\": 0.0, \"s7\": 0.0, \"s8\": 0.0}, {\"s0\": 0.0, \"s1\": 0.0, \"s2\": 0.0, \"s3\": 0.0, \"s4\": 0.0, \"s5\": 0.0, \"s6\": 0.0, \"s7\": 0.0, \"s8\": 0.0}, {\"s0\": 0.0, \"s1\": 0.0, \"s2\": 0.0, \"s3\": 0.0, \"s4\": 0.0, \"s5\": 0.0, \"s6\": 0.0, \"s7\": 0.0, \"s8\": 0.0}, {\"s0\": 0.0, \"s1\": 0.0, \"s2\": 0.0, \"s3\": 0.0, \"s4\": 0.0, \"s5\": 0.0, \"s6\": 0.0, \"s7\": 0.0, \"s8\": 0.0}, {\"s0\": 0.0, \"s1\": 0.0, \"s2\": 0.0, \"s3\": 0.0, \"s4\": 0.0, \"s5\": 0.0, \"s6\": 0.0, \"s7\": 0.0, \"s8\": 0.0}, {\"s0\": 0.0, \"s1\": 0.0, \"s2\": 0.0, \"s3\": 0.0, \"s4\": 0.0, \"s5\": 0.0, \"s6\": 0.0, \"s7\": 0.0, \"s8\": 0.0}, {\"s0\": 0.0, \"s1\": 0.0, \"s2\": 0.0, \"s3\": 0.0, \"s4\": 0.0, \"s5\": 0.0, \"s6\": 0.0, \"s7\": 0.0, \"s8\": 0.0}, {\"s0\": 0.0, \"s1\": 0.0, \"s2\": 0.0, \"s3\": 0.0, \"s4\": 0.0, \"s5\": 0.0, \"s6\": 0.0, \"s7\": 0.0, \"s8\": 0.0}, {\"s0\": 0.0, \"s1\": 0.0, \"s2\": 0.0, \"s3\": 0.0, \"s4\": 0.0, \"s5\": 0.0, \"s6\": 0.0, \"s7\": 0.0, \"s8\": 0.0}, {\"s0\": 0.0, \"s1\": 0.0, \"s2\": 0.0, \"s3\": 0.0, \"s4\": 0.0, \"s5\": 0.0, \"s6\": 0.0, \"s7\": 0.0, \"s8\": 0.0}], \"pressure_distribution\": {\"leftside\": {\"0\": 0.0, \"1\": 0.0, \"2\": 0.0, \"3\": 0.0, \"4\": 0.0, \"5\": 0.0, \"6\": 0.0, \"7\": 0.0, \"8\": 0.0}, \"rightside\": {\"0\": 0.0, \"1\": 0.0, \"2\": 0.0, \"3\": 0.0, \"4\": 0.0, \"5\": 0.0, \"6\": 0.0, \"7\": 0.0, \"8\": 0.0}}, \"piechart\": {\"Supinado\": 1}, \"barchart\": {\"Supinado\": 100}}}\n",
    "\n",
    "examId = \"exam12\"\n",
    "graphs_json = data[\"graphs\"]\n",
    "graphs_js = json.dumps(graphs_json)"
   ]
  },
  {
   "cell_type": "code",
   "execution_count": 82,
   "metadata": {},
   "outputs": [
    {
     "data": {
      "text/plain": [
       "<sqlite3.Cursor at 0x2128589d6c0>"
      ]
     },
     "execution_count": 82,
     "metadata": {},
     "output_type": "execute_result"
    }
   ],
   "source": [
    "cur.execute(\"insert into relearnedData values (?, ?, ?)\",[examId,data[\"gaitType\"],graphs_js])"
   ]
  },
  {
   "cell_type": "code",
   "execution_count": null,
   "metadata": {},
   "outputs": [],
   "source": []
  },
  {
   "cell_type": "code",
   "execution_count": 107,
   "metadata": {},
   "outputs": [
    {
     "data": {
      "text/plain": [
       "<sqlalchemy.engine.cursor.LegacyCursorResult at 0x16825d96af0>"
      ]
     },
     "execution_count": 107,
     "metadata": {},
     "output_type": "execute_result"
    }
   ],
   "source": [
    "engine.execute(\"CREATE TABLE IF NOT EXISTS relearnedData (examId TEXT, s1 REAL NOT NULL, s2 REAL NOT NULL, s3 REAL NOT NULL, s4 REAL NOT NULL, s5 REAL NOT NULL, s6 REAL NOT NULL, s7 REAL NOT NULL, s8 REAL NOT NULL, s9 REAL NOT NULL, RECOMMENDATION_AI TEXT NOT NULL, FINAL_RECOMMENDATION TEXT);\")"
   ]
  },
  {
   "cell_type": "code",
   "execution_count": 82,
   "metadata": {},
   "outputs": [
    {
     "data": {
      "text/plain": [
       "<sqlalchemy.engine.cursor.LegacyCursorResult at 0x1682465ec70>"
      ]
     },
     "execution_count": 82,
     "metadata": {},
     "output_type": "execute_result"
    }
   ],
   "source": [
    "engine.execute(\"INSERT INTO relearnedData VALUES('exam1', '1.0', '1.0', '1.0', '1.0', '2.0', '1.0', '1.0', '1.0', '1.0', 'NEUTRO', NULL);\")"
   ]
  },
  {
   "cell_type": "code",
   "execution_count": 108,
   "metadata": {},
   "outputs": [],
   "source": [
    "with engine.begin() as connection:\n",
    "    data.to_sql('relearnedData', con=connection, if_exists='append', index=False)"
   ]
  },
  {
   "cell_type": "code",
   "execution_count": 100,
   "metadata": {},
   "outputs": [],
   "source": [
    "data = cur.execute(\"SELECT graphs FROM relearnedData WHERE examId = 'exam12'\").fetchall()"
   ]
  },
  {
   "cell_type": "code",
   "execution_count": 101,
   "metadata": {},
   "outputs": [
    {
     "data": {
      "text/plain": [
       "list"
      ]
     },
     "execution_count": 101,
     "metadata": {},
     "output_type": "execute_result"
    }
   ],
   "source": [
    "type(data)"
   ]
  },
  {
   "cell_type": "code",
   "execution_count": 102,
   "metadata": {},
   "outputs": [],
   "source": [
    "data = data[0]\n"
   ]
  },
  {
   "cell_type": "code",
   "execution_count": 104,
   "metadata": {},
   "outputs": [],
   "source": [
    "data = json.loads(data[0])"
   ]
  },
  {
   "cell_type": "code",
   "execution_count": 105,
   "metadata": {},
   "outputs": [
    {
     "data": {
      "text/plain": [
       "{'linechart': [{'s0': 0.0,\n",
       "   's1': 0.0,\n",
       "   's2': 0.0,\n",
       "   's3': 0.0,\n",
       "   's4': 0.0,\n",
       "   's5': 0.0,\n",
       "   's6': 0.0,\n",
       "   's7': 0.0,\n",
       "   's8': 0.0},\n",
       "  {'s0': 0.0,\n",
       "   's1': 0.0,\n",
       "   's2': 0.0,\n",
       "   's3': 0.0,\n",
       "   's4': 0.0,\n",
       "   's5': 0.0,\n",
       "   's6': 0.0,\n",
       "   's7': 0.0,\n",
       "   's8': 0.0},\n",
       "  {'s0': 0.0,\n",
       "   's1': 0.0,\n",
       "   's2': 0.0,\n",
       "   's3': 0.0,\n",
       "   's4': 0.0,\n",
       "   's5': 0.0,\n",
       "   's6': 0.0,\n",
       "   's7': 0.0,\n",
       "   's8': 0.0},\n",
       "  {'s0': 0.0,\n",
       "   's1': 0.0,\n",
       "   's2': 0.0,\n",
       "   's3': 0.0,\n",
       "   's4': 0.0,\n",
       "   's5': 0.0,\n",
       "   's6': 0.0,\n",
       "   's7': 0.0,\n",
       "   's8': 0.0},\n",
       "  {'s0': 0.0,\n",
       "   's1': 0.0,\n",
       "   's2': 0.0,\n",
       "   's3': 0.0,\n",
       "   's4': 0.0,\n",
       "   's5': 0.0,\n",
       "   's6': 0.0,\n",
       "   's7': 0.0,\n",
       "   's8': 0.0},\n",
       "  {'s0': 0.0,\n",
       "   's1': 0.0,\n",
       "   's2': 0.0,\n",
       "   's3': 0.0,\n",
       "   's4': 0.0,\n",
       "   's5': 0.0,\n",
       "   's6': 0.0,\n",
       "   's7': 0.0,\n",
       "   's8': 0.0},\n",
       "  {'s0': 0.0,\n",
       "   's1': 0.0,\n",
       "   's2': 0.0,\n",
       "   's3': 0.0,\n",
       "   's4': 0.0,\n",
       "   's5': 0.0,\n",
       "   's6': 0.0,\n",
       "   's7': 0.0,\n",
       "   's8': 0.0},\n",
       "  {'s0': 0.0,\n",
       "   's1': 0.0,\n",
       "   's2': 0.0,\n",
       "   's3': 0.0,\n",
       "   's4': 0.0,\n",
       "   's5': 0.0,\n",
       "   's6': 0.0,\n",
       "   's7': 0.0,\n",
       "   's8': 0.0},\n",
       "  {'s0': 0.0,\n",
       "   's1': 0.0,\n",
       "   's2': 0.0,\n",
       "   's3': 0.0,\n",
       "   's4': 0.0,\n",
       "   's5': 0.0,\n",
       "   's6': 0.0,\n",
       "   's7': 0.0,\n",
       "   's8': 0.0},\n",
       "  {'s0': 0.0,\n",
       "   's1': 0.0,\n",
       "   's2': 0.0,\n",
       "   's3': 0.0,\n",
       "   's4': 0.0,\n",
       "   's5': 0.0,\n",
       "   's6': 0.0,\n",
       "   's7': 0.0,\n",
       "   's8': 0.0},\n",
       "  {'s0': 0.0,\n",
       "   's1': 0.0,\n",
       "   's2': 0.0,\n",
       "   's3': 0.0,\n",
       "   's4': 0.0,\n",
       "   's5': 0.0,\n",
       "   's6': 0.0,\n",
       "   's7': 0.0,\n",
       "   's8': 0.0}],\n",
       " 'pressure_distribution': {'leftside': {'0': 0.0,\n",
       "   '1': 0.0,\n",
       "   '2': 0.0,\n",
       "   '3': 0.0,\n",
       "   '4': 0.0,\n",
       "   '5': 0.0,\n",
       "   '6': 0.0,\n",
       "   '7': 0.0,\n",
       "   '8': 0.0},\n",
       "  'rightside': {'0': 0.0,\n",
       "   '1': 0.0,\n",
       "   '2': 0.0,\n",
       "   '3': 0.0,\n",
       "   '4': 0.0,\n",
       "   '5': 0.0,\n",
       "   '6': 0.0,\n",
       "   '7': 0.0,\n",
       "   '8': 0.0}},\n",
       " 'piechart': {'Supinado': 1},\n",
       " 'barchart': {'Supinado': 100}}"
      ]
     },
     "execution_count": 105,
     "metadata": {},
     "output_type": "execute_result"
    }
   ],
   "source": [
    "data"
   ]
  },
  {
   "cell_type": "code",
   "execution_count": 111,
   "metadata": {},
   "outputs": [],
   "source": [
    "data2 = cur.execute(\"SELECT gaitType,graphs FROM relearnedData WHERE examId = 'exam123'\").fetchall()"
   ]
  },
  {
   "cell_type": "code",
   "execution_count": 112,
   "metadata": {},
   "outputs": [
    {
     "data": {
      "text/plain": [
       "[]"
      ]
     },
     "execution_count": 112,
     "metadata": {},
     "output_type": "execute_result"
    }
   ],
   "source": [
    "data2"
   ]
  },
  {
   "cell_type": "code",
   "execution_count": 108,
   "metadata": {},
   "outputs": [
    {
     "data": {
      "text/plain": [
       "'SUPINADO'"
      ]
     },
     "execution_count": 108,
     "metadata": {},
     "output_type": "execute_result"
    }
   ],
   "source": [
    "data2[0][0]"
   ]
  },
  {
   "cell_type": "code",
   "execution_count": 109,
   "metadata": {},
   "outputs": [],
   "source": [
    "gtype = data = json.loads(data2[0][1])"
   ]
  },
  {
   "cell_type": "code",
   "execution_count": 110,
   "metadata": {},
   "outputs": [
    {
     "data": {
      "text/plain": [
       "{'linechart': [{'s0': 0.0,\n",
       "   's1': 0.0,\n",
       "   's2': 0.0,\n",
       "   's3': 0.0,\n",
       "   's4': 0.0,\n",
       "   's5': 0.0,\n",
       "   's6': 0.0,\n",
       "   's7': 0.0,\n",
       "   's8': 0.0},\n",
       "  {'s0': 0.0,\n",
       "   's1': 0.0,\n",
       "   's2': 0.0,\n",
       "   's3': 0.0,\n",
       "   's4': 0.0,\n",
       "   's5': 0.0,\n",
       "   's6': 0.0,\n",
       "   's7': 0.0,\n",
       "   's8': 0.0},\n",
       "  {'s0': 0.0,\n",
       "   's1': 0.0,\n",
       "   's2': 0.0,\n",
       "   's3': 0.0,\n",
       "   's4': 0.0,\n",
       "   's5': 0.0,\n",
       "   's6': 0.0,\n",
       "   's7': 0.0,\n",
       "   's8': 0.0},\n",
       "  {'s0': 0.0,\n",
       "   's1': 0.0,\n",
       "   's2': 0.0,\n",
       "   's3': 0.0,\n",
       "   's4': 0.0,\n",
       "   's5': 0.0,\n",
       "   's6': 0.0,\n",
       "   's7': 0.0,\n",
       "   's8': 0.0},\n",
       "  {'s0': 0.0,\n",
       "   's1': 0.0,\n",
       "   's2': 0.0,\n",
       "   's3': 0.0,\n",
       "   's4': 0.0,\n",
       "   's5': 0.0,\n",
       "   's6': 0.0,\n",
       "   's7': 0.0,\n",
       "   's8': 0.0},\n",
       "  {'s0': 0.0,\n",
       "   's1': 0.0,\n",
       "   's2': 0.0,\n",
       "   's3': 0.0,\n",
       "   's4': 0.0,\n",
       "   's5': 0.0,\n",
       "   's6': 0.0,\n",
       "   's7': 0.0,\n",
       "   's8': 0.0},\n",
       "  {'s0': 0.0,\n",
       "   's1': 0.0,\n",
       "   's2': 0.0,\n",
       "   's3': 0.0,\n",
       "   's4': 0.0,\n",
       "   's5': 0.0,\n",
       "   's6': 0.0,\n",
       "   's7': 0.0,\n",
       "   's8': 0.0},\n",
       "  {'s0': 0.0,\n",
       "   's1': 0.0,\n",
       "   's2': 0.0,\n",
       "   's3': 0.0,\n",
       "   's4': 0.0,\n",
       "   's5': 0.0,\n",
       "   's6': 0.0,\n",
       "   's7': 0.0,\n",
       "   's8': 0.0},\n",
       "  {'s0': 0.0,\n",
       "   's1': 0.0,\n",
       "   's2': 0.0,\n",
       "   's3': 0.0,\n",
       "   's4': 0.0,\n",
       "   's5': 0.0,\n",
       "   's6': 0.0,\n",
       "   's7': 0.0,\n",
       "   's8': 0.0},\n",
       "  {'s0': 0.0,\n",
       "   's1': 0.0,\n",
       "   's2': 0.0,\n",
       "   's3': 0.0,\n",
       "   's4': 0.0,\n",
       "   's5': 0.0,\n",
       "   's6': 0.0,\n",
       "   's7': 0.0,\n",
       "   's8': 0.0},\n",
       "  {'s0': 0.0,\n",
       "   's1': 0.0,\n",
       "   's2': 0.0,\n",
       "   's3': 0.0,\n",
       "   's4': 0.0,\n",
       "   's5': 0.0,\n",
       "   's6': 0.0,\n",
       "   's7': 0.0,\n",
       "   's8': 0.0}],\n",
       " 'pressure_distribution': {'leftside': {'0': 0.0,\n",
       "   '1': 0.0,\n",
       "   '2': 0.0,\n",
       "   '3': 0.0,\n",
       "   '4': 0.0,\n",
       "   '5': 0.0,\n",
       "   '6': 0.0,\n",
       "   '7': 0.0,\n",
       "   '8': 0.0},\n",
       "  'rightside': {'0': 0.0,\n",
       "   '1': 0.0,\n",
       "   '2': 0.0,\n",
       "   '3': 0.0,\n",
       "   '4': 0.0,\n",
       "   '5': 0.0,\n",
       "   '6': 0.0,\n",
       "   '7': 0.0,\n",
       "   '8': 0.0}},\n",
       " 'piechart': {'Supinado': 1},\n",
       " 'barchart': {'Supinado': 100}}"
      ]
     },
     "execution_count": 110,
     "metadata": {},
     "output_type": "execute_result"
    }
   ],
   "source": [
    "gtype"
   ]
  },
  {
   "cell_type": "code",
   "execution_count": 113,
   "metadata": {},
   "outputs": [
    {
     "data": {
      "text/plain": [
       "0"
      ]
     },
     "execution_count": 113,
     "metadata": {},
     "output_type": "execute_result"
    }
   ],
   "source": [
    "len(data2)"
   ]
  },
  {
   "cell_type": "code",
   "execution_count": null,
   "metadata": {},
   "outputs": [],
   "source": []
  }
 ],
 "metadata": {
  "kernelspec": {
   "display_name": "Python 3.9.11 64-bit",
   "language": "python",
   "name": "python3"
  },
  "language_info": {
   "codemirror_mode": {
    "name": "ipython",
    "version": 3
   },
   "file_extension": ".py",
   "mimetype": "text/x-python",
   "name": "python",
   "nbconvert_exporter": "python",
   "pygments_lexer": "ipython3",
   "version": "3.9.11"
  },
  "orig_nbformat": 4,
  "vscode": {
   "interpreter": {
    "hash": "92710fc16ff2eb29230206ee98c547d64683afad09e176bd1decd7eee8878c88"
   }
  }
 },
 "nbformat": 4,
 "nbformat_minor": 2
}
